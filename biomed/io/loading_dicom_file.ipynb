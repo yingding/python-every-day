{
 "cells": [
  {
   "cell_type": "markdown",
   "id": "2b911c7a",
   "metadata": {},
   "source": [
    "## Example notebook for loading MR Images\n",
    "\n",
    "Download a MR Image sample from physionet.org\n",
    "* https://physionet.org/content/images/1.0.0/\n",
    "\n",
    "alternatively also CT image from DICOM library\n",
    "* https://www.dicomlibrary.com/\n"
   ]
  },
  {
   "cell_type": "code",
   "execution_count": 1,
   "id": "a5bc6b02",
   "metadata": {},
   "outputs": [
    {
     "name": "stdout",
     "output_type": "stream",
     "text": [
      "file E1154S7I.dcm already exists in ./data/E1154S7I.dcm\n"
     ]
    }
   ],
   "source": [
    "import os\n",
    "import urllib.request\n",
    "\n",
    "url = \"https://physionet.org/files/images/1.0.0/E1154S7I.dcm\"\n",
    "file_name = \"E1154S7I.dcm\"\n",
    "data_path = \"./data\"\n",
    "\n",
    "def download_file(root_dir: str, url: str, file_name: str):\n",
    "    # try to make a root dir if not exists\n",
    "    os.makedirs(name=root_dir, exist_ok=True)\n",
    "    file_path = os.path.join(root_dir, file_name)\n",
    "\n",
    "    if not os.path.exists(file_path):\n",
    "        # url must contain the file anme\n",
    "        # https://stackoverflow.com/questions/46413651/download-file-with-urlretrieve-to-subfolder\n",
    "        urllib.request.urlretrieve(url, file_path)\n",
    "    else:\n",
    "        print(f\"file {file_name} already exists in {file_path}\")\n",
    "\n",
    "\n",
    "download_file(data_path, url, file_name)"
   ]
  },
  {
   "cell_type": "code",
   "execution_count": 2,
   "id": "f379d3f4-3f43-4c69-a056-015c7cd687c5",
   "metadata": {},
   "outputs": [],
   "source": [
    "import pandas as pd\n",
    "from pathlib import Path\n",
    "import SimpleITK as sitk\n",
    "from pydicom import read_file\n",
    "import numpy as np"
   ]
  },
  {
   "cell_type": "code",
   "execution_count": 3,
   "id": "36368618-d403-47c7-9dcb-f61e35a6906b",
   "metadata": {},
   "outputs": [],
   "source": [
    "import pandas as pd\n",
    "pd.set_option('display.max_columns', 500)\n",
    "pd.set_option('display.width', 1000)\n",
    "pd.set_option('display.max_rows', 1000)\n",
    "# pd.set_option('display.max_colwidth', 1000)"
   ]
  },
  {
   "cell_type": "code",
   "execution_count": 4,
   "id": "3fb5d9b6-ccec-4dab-8955-52fd1bb7f272",
   "metadata": {},
   "outputs": [],
   "source": [
    "from __future__ import print_function\n",
    "from IPython.display import display\n",
    "from ipywidgets import interact, interactive, fixed, interact_manual\n",
    "import ipywidgets as widgets\n"
   ]
  },
  {
   "cell_type": "code",
   "execution_count": 5,
   "id": "714d3953-1db8-4749-89c1-170e409dd837",
   "metadata": {},
   "outputs": [],
   "source": [
    "from pydicom import read_file, dcmread\n",
    "from pathlib import Path\n",
    "import pandas as pd\n",
    "from tqdm import tqdm\n",
    "\n",
    "def get_meta(meta_info, key):\n",
    "    instance_name = [el.keyword for el in meta_info if key.lower() in str(el.keyword).lower()]\n",
    "    if 0<len(instance_name)<=1:\n",
    "        return getattr(meta_info, instance_name[0])\n",
    "    elif len(instance_name)>1:\n",
    "        print (\"Multiple keys found: \", instance_name)\n",
    "        values =  np.unique(np.array([getattr(meta_info, el) for el in instance_name]))\n",
    "        if len(values) >1:\n",
    "            print(\"Multiple instances for these keys: \", values)\n",
    "            return None\n",
    "        else:\n",
    "            return values[0]\n",
    "    else:\n",
    "        print(\"No key found\")\n",
    "        return None\n",
    "    \n",
    "def try_open_dcm(pydicom_image, sitk_image, dc_path):\n",
    "\n",
    "    try:\n",
    "        oct_volume = np.array(pydicom_image.pixel_array)\n",
    "        flag_pydicom_ok = True\n",
    "    except:\n",
    "        flag_pydicom_ok = False\n",
    "\n",
    "    \n",
    "    try:\n",
    "        sitk_image.ReadImageInformation()\n",
    "        image = sitk.ReadImage(str(dc_path))\n",
    "        flag_sitk_ok = True\n",
    "    except:\n",
    "        flag_sitk_ok = False\n",
    "\n",
    "    return flag_pydicom_ok, flag_sitk_ok\n",
    "\n",
    "\n",
    "def get_all_dcm_meta(input_path):\n",
    "    dc_paths= [dc_path for dc_path in Path(input_path).rglob('*.dcm')]\n",
    "\n",
    "\n",
    "    df = pd.DataFrame()\n",
    "    for dc_path in tqdm(dc_paths):\n",
    "\n",
    "        sitk_image_reader = sitk.ImageFileReader()\n",
    "        # only read DICOM images\n",
    "        sitk_image_reader.SetImageIO('GDCMImageIO')\n",
    "        sitk_image_reader.SetFileName(str(dc_path))\n",
    "        pydicom_reader = read_file(str(dc_path))\n",
    "        row_dict ={el.keyword: getattr(pydicom_reader, el.keyword) for el in pydicom_reader if el.keyword!= \"\" and el.keyword!=\"PixelData\"}\n",
    "        \n",
    "        # Reading patient info\n",
    "        patient_doctor_id = \"\".join(pydicom_reader.PatientName)\n",
    "        # row_dict[\"patient_id\"] = patient_doctor_id.split(\"^\")[0]\n",
    "        # row_dict[\"doctor_id\"] = patient_doctor_id.split(\"^\")[1]\n",
    "        \n",
    "        \n",
    "        flag_pydicom_ok, flag_sitk_ok = try_open_dcm(pydicom_reader, sitk_image_reader, dc_path)\n",
    "        row_dict[\"pydicom_readable\"] = flag_pydicom_ok\n",
    "        row_dict[\"sitk_readable\"] = flag_sitk_ok\n",
    "        row_dict[\"oct_readable\"] = (flag_sitk_ok or flag_pydicom_ok)\n",
    "\n",
    "        if flag_pydicom_ok or flag_sitk_ok:\n",
    "            print(dc_path.name, flag_pydicom_ok, flag_sitk_ok)\n",
    "\n",
    "\n",
    "            sitk_image_reader.ReadImageInformation()\n",
    "            image = sitk.ReadImage(str(dc_path))\n",
    "            depth = image.GetDepth()\n",
    "            row_dict[\"num_slices\"]= depth\n",
    "            row_dict[\"img_size\"]= image.GetSize()\n",
    "\n",
    "        row_dict[\"filename\"] = str(Path(dc_path).name)\n",
    "\n",
    "        \n",
    "        row = pd.DataFrame.from_records([row_dict])\n",
    "\n",
    "        df = pd.concat([df, row], ignore_index=True)\n",
    "\n",
    "\n",
    "    return df\n"
   ]
  },
  {
   "cell_type": "code",
   "execution_count": 6,
   "id": "5e962c86-b293-4840-992c-30902b9cec6f",
   "metadata": {},
   "outputs": [
    {
     "name": "stderr",
     "output_type": "stream",
     "text": [
      "100%|██████████| 1/1 [00:00<00:00,  8.37it/s]"
     ]
    },
    {
     "name": "stdout",
     "output_type": "stream",
     "text": [
      "E1154S7I.dcm True True\n"
     ]
    },
    {
     "name": "stderr",
     "output_type": "stream",
     "text": [
      "\n"
     ]
    }
   ],
   "source": [
    "OCT_EXPORT_1 = data_path\n",
    "df_export_1 = get_all_dcm_meta(OCT_EXPORT_1)"
   ]
  },
  {
   "cell_type": "code",
   "execution_count": 7,
   "id": "f222edea-37ae-42bf-bca7-97e69613ad2a",
   "metadata": {},
   "outputs": [
    {
     "data": {
      "text/html": [
       "<div>\n",
       "<style scoped>\n",
       "    .dataframe tbody tr th:only-of-type {\n",
       "        vertical-align: middle;\n",
       "    }\n",
       "\n",
       "    .dataframe tbody tr th {\n",
       "        vertical-align: top;\n",
       "    }\n",
       "\n",
       "    .dataframe thead th {\n",
       "        text-align: right;\n",
       "    }\n",
       "</style>\n",
       "<table border=\"1\" class=\"dataframe\">\n",
       "  <thead>\n",
       "    <tr style=\"text-align: right;\">\n",
       "      <th></th>\n",
       "      <th>ImageType</th>\n",
       "      <th>SOPClassUID</th>\n",
       "      <th>SOPInstanceUID</th>\n",
       "      <th>StudyDate</th>\n",
       "      <th>StudyTime</th>\n",
       "      <th>AccessionNumber</th>\n",
       "      <th>Modality</th>\n",
       "      <th>Manufacturer</th>\n",
       "      <th>StudyDescription</th>\n",
       "      <th>PatientName</th>\n",
       "      <th>PatientID</th>\n",
       "      <th>PatientBirthDate</th>\n",
       "      <th>PatientSex</th>\n",
       "      <th>FrameTime</th>\n",
       "      <th>StudyInstanceUID</th>\n",
       "      <th>SeriesInstanceUID</th>\n",
       "      <th>StudyID</th>\n",
       "      <th>SeriesNumber</th>\n",
       "      <th>InstanceNumber</th>\n",
       "      <th>SamplesPerPixel</th>\n",
       "      <th>PhotometricInterpretation</th>\n",
       "      <th>NumberOfFrames</th>\n",
       "      <th>FrameIncrementPointer</th>\n",
       "      <th>Rows</th>\n",
       "      <th>Columns</th>\n",
       "      <th>BitsAllocated</th>\n",
       "      <th>BitsStored</th>\n",
       "      <th>HighBit</th>\n",
       "      <th>PixelRepresentation</th>\n",
       "      <th>pydicom_readable</th>\n",
       "      <th>sitk_readable</th>\n",
       "      <th>oct_readable</th>\n",
       "      <th>num_slices</th>\n",
       "      <th>img_size</th>\n",
       "      <th>filename</th>\n",
       "    </tr>\n",
       "  </thead>\n",
       "  <tbody>\n",
       "    <tr>\n",
       "      <th>0</th>\n",
       "      <td></td>\n",
       "      <td>1.2.840.10008.5.1.4.1.1.3.1</td>\n",
       "      <td>999.999.999</td>\n",
       "      <td></td>\n",
       "      <td></td>\n",
       "      <td></td>\n",
       "      <td>MR</td>\n",
       "      <td></td>\n",
       "      <td></td>\n",
       "      <td>()</td>\n",
       "      <td></td>\n",
       "      <td></td>\n",
       "      <td></td>\n",
       "      <td>100.0</td>\n",
       "      <td>999.999.999</td>\n",
       "      <td>999.999.999</td>\n",
       "      <td></td>\n",
       "      <td>None</td>\n",
       "      <td>None</td>\n",
       "      <td>1</td>\n",
       "      <td>MONOCHROME2</td>\n",
       "      <td>76</td>\n",
       "      <td>1577059</td>\n",
       "      <td>512</td>\n",
       "      <td>512</td>\n",
       "      <td>16</td>\n",
       "      <td>16</td>\n",
       "      <td>0</td>\n",
       "      <td>0</td>\n",
       "      <td>True</td>\n",
       "      <td>True</td>\n",
       "      <td>True</td>\n",
       "      <td>76</td>\n",
       "      <td>(512, 512, 76)</td>\n",
       "      <td>E1154S7I.dcm</td>\n",
       "    </tr>\n",
       "  </tbody>\n",
       "</table>\n",
       "</div>"
      ],
      "text/plain": [
       "  ImageType                  SOPClassUID SOPInstanceUID StudyDate StudyTime AccessionNumber Modality Manufacturer StudyDescription PatientName PatientID PatientBirthDate PatientSex  FrameTime StudyInstanceUID SeriesInstanceUID StudyID SeriesNumber InstanceNumber  SamplesPerPixel PhotometricInterpretation  NumberOfFrames  FrameIncrementPointer  Rows  Columns  BitsAllocated  BitsStored  HighBit  PixelRepresentation  pydicom_readable  sitk_readable  oct_readable  num_slices        img_size      filename\n",
       "0            1.2.840.10008.5.1.4.1.1.3.1    999.999.999                                           MR                                        ()                                            100.0      999.999.999       999.999.999                 None           None                1               MONOCHROME2              76                1577059   512      512             16          16        0                    0              True           True          True          76  (512, 512, 76)  E1154S7I.dcm"
      ]
     },
     "execution_count": 7,
     "metadata": {},
     "output_type": "execute_result"
    }
   ],
   "source": [
    "df_export_1.head()"
   ]
  },
  {
   "cell_type": "code",
   "execution_count": 8,
   "id": "4ea135d2-b7e9-48cb-95ae-91a392fedf99",
   "metadata": {},
   "outputs": [
    {
     "data": {
      "text/html": [
       "<div>\n",
       "<style scoped>\n",
       "    .dataframe tbody tr th:only-of-type {\n",
       "        vertical-align: middle;\n",
       "    }\n",
       "\n",
       "    .dataframe tbody tr th {\n",
       "        vertical-align: top;\n",
       "    }\n",
       "\n",
       "    .dataframe thead th {\n",
       "        text-align: right;\n",
       "    }\n",
       "</style>\n",
       "<table border=\"1\" class=\"dataframe\">\n",
       "  <thead>\n",
       "    <tr style=\"text-align: right;\">\n",
       "      <th></th>\n",
       "      <th>Modality</th>\n",
       "      <th>img_size</th>\n",
       "      <th>filename</th>\n",
       "    </tr>\n",
       "  </thead>\n",
       "  <tbody>\n",
       "    <tr>\n",
       "      <th>0</th>\n",
       "      <td>MR</td>\n",
       "      <td>(512, 512, 76)</td>\n",
       "      <td>E1154S7I.dcm</td>\n",
       "    </tr>\n",
       "  </tbody>\n",
       "</table>\n",
       "</div>"
      ],
      "text/plain": [
       "  Modality        img_size      filename\n",
       "0       MR  (512, 512, 76)  E1154S7I.dcm"
      ]
     },
     "execution_count": 8,
     "metadata": {},
     "output_type": "execute_result"
    }
   ],
   "source": [
    "df_export_1[[\"Modality\", \"img_size\", \"filename\"]].head()"
   ]
  },
  {
   "cell_type": "code",
   "execution_count": 9,
   "id": "01849838-f8f4-42e8-b390-7664c10be5b7",
   "metadata": {},
   "outputs": [],
   "source": [
    "# Select the first MR images\n",
    "# t = df_export_1[df_export_1.Modality==\"OPT\"]\n",
    "t = df_export_1[df_export_1.Modality==\"MR\"]"
   ]
  },
  {
   "cell_type": "code",
   "execution_count": 10,
   "id": "c92545c7",
   "metadata": {},
   "outputs": [
    {
     "data": {
      "text/html": [
       "<div>\n",
       "<style scoped>\n",
       "    .dataframe tbody tr th:only-of-type {\n",
       "        vertical-align: middle;\n",
       "    }\n",
       "\n",
       "    .dataframe tbody tr th {\n",
       "        vertical-align: top;\n",
       "    }\n",
       "\n",
       "    .dataframe thead th {\n",
       "        text-align: right;\n",
       "    }\n",
       "</style>\n",
       "<table border=\"1\" class=\"dataframe\">\n",
       "  <thead>\n",
       "    <tr style=\"text-align: right;\">\n",
       "      <th></th>\n",
       "      <th>ImageType</th>\n",
       "      <th>SOPClassUID</th>\n",
       "      <th>SOPInstanceUID</th>\n",
       "      <th>StudyDate</th>\n",
       "      <th>StudyTime</th>\n",
       "      <th>AccessionNumber</th>\n",
       "      <th>Modality</th>\n",
       "      <th>Manufacturer</th>\n",
       "      <th>StudyDescription</th>\n",
       "      <th>PatientName</th>\n",
       "      <th>PatientID</th>\n",
       "      <th>PatientBirthDate</th>\n",
       "      <th>PatientSex</th>\n",
       "      <th>FrameTime</th>\n",
       "      <th>StudyInstanceUID</th>\n",
       "      <th>SeriesInstanceUID</th>\n",
       "      <th>StudyID</th>\n",
       "      <th>SeriesNumber</th>\n",
       "      <th>InstanceNumber</th>\n",
       "      <th>SamplesPerPixel</th>\n",
       "      <th>PhotometricInterpretation</th>\n",
       "      <th>NumberOfFrames</th>\n",
       "      <th>FrameIncrementPointer</th>\n",
       "      <th>Rows</th>\n",
       "      <th>Columns</th>\n",
       "      <th>BitsAllocated</th>\n",
       "      <th>BitsStored</th>\n",
       "      <th>HighBit</th>\n",
       "      <th>PixelRepresentation</th>\n",
       "      <th>pydicom_readable</th>\n",
       "      <th>sitk_readable</th>\n",
       "      <th>oct_readable</th>\n",
       "      <th>num_slices</th>\n",
       "      <th>img_size</th>\n",
       "      <th>filename</th>\n",
       "    </tr>\n",
       "  </thead>\n",
       "  <tbody>\n",
       "    <tr>\n",
       "      <th>0</th>\n",
       "      <td></td>\n",
       "      <td>1.2.840.10008.5.1.4.1.1.3.1</td>\n",
       "      <td>999.999.999</td>\n",
       "      <td></td>\n",
       "      <td></td>\n",
       "      <td></td>\n",
       "      <td>MR</td>\n",
       "      <td></td>\n",
       "      <td></td>\n",
       "      <td>()</td>\n",
       "      <td></td>\n",
       "      <td></td>\n",
       "      <td></td>\n",
       "      <td>100.0</td>\n",
       "      <td>999.999.999</td>\n",
       "      <td>999.999.999</td>\n",
       "      <td></td>\n",
       "      <td>None</td>\n",
       "      <td>None</td>\n",
       "      <td>1</td>\n",
       "      <td>MONOCHROME2</td>\n",
       "      <td>76</td>\n",
       "      <td>1577059</td>\n",
       "      <td>512</td>\n",
       "      <td>512</td>\n",
       "      <td>16</td>\n",
       "      <td>16</td>\n",
       "      <td>0</td>\n",
       "      <td>0</td>\n",
       "      <td>True</td>\n",
       "      <td>True</td>\n",
       "      <td>True</td>\n",
       "      <td>76</td>\n",
       "      <td>(512, 512, 76)</td>\n",
       "      <td>E1154S7I.dcm</td>\n",
       "    </tr>\n",
       "  </tbody>\n",
       "</table>\n",
       "</div>"
      ],
      "text/plain": [
       "  ImageType                  SOPClassUID SOPInstanceUID StudyDate StudyTime AccessionNumber Modality Manufacturer StudyDescription PatientName PatientID PatientBirthDate PatientSex  FrameTime StudyInstanceUID SeriesInstanceUID StudyID SeriesNumber InstanceNumber  SamplesPerPixel PhotometricInterpretation  NumberOfFrames  FrameIncrementPointer  Rows  Columns  BitsAllocated  BitsStored  HighBit  PixelRepresentation  pydicom_readable  sitk_readable  oct_readable  num_slices        img_size      filename\n",
       "0            1.2.840.10008.5.1.4.1.1.3.1    999.999.999                                           MR                                        ()                                            100.0      999.999.999       999.999.999                 None           None                1               MONOCHROME2              76                1577059   512      512             16          16        0                    0              True           True          True          76  (512, 512, 76)  E1154S7I.dcm"
      ]
     },
     "execution_count": 10,
     "metadata": {},
     "output_type": "execute_result"
    }
   ],
   "source": [
    "t"
   ]
  },
  {
   "cell_type": "code",
   "execution_count": 11,
   "id": "8cc0cbe8-0563-4f91-8241-5b83ed431445",
   "metadata": {},
   "outputs": [],
   "source": [
    "from __future__ import print_function\n",
    "from IPython.display import display\n",
    "from ipywidgets import interact, interactive, fixed, interact_manual, Layout\n",
    "import ipywidgets as widgets\n",
    "from pathlib import Path\n",
    "\n",
    "import matplotlib.pyplot as plt\n",
    "def show_raw_dcm(image, slice_idx):\n",
    "    print(image.shape)\n",
    "    plt.imshow(image[slice_idx], cmap= \"gray\")\n",
    "    plt.title(f\"{image.shape}\")\n",
    "    plt.show()\n",
    "    # do not use close otherwise the interactive widget cell will reload\n",
    "    # plt.close()"
   ]
  },
  {
   "cell_type": "code",
   "execution_count": 12,
   "id": "31662a45-1729-4b0c-ab92-4cead2ddb3be",
   "metadata": {},
   "outputs": [],
   "source": [
    "dc_path = Path(OCT_EXPORT_1) / t.filename.iloc[0]\n",
    "pydicom_image = read_file(str(dc_path))\n",
    "oct_volume = np.array(pydicom_image.pixel_array)"
   ]
  },
  {
   "cell_type": "code",
   "execution_count": 13,
   "id": "e8b843a2-30cc-4f25-93ab-4422188aadba",
   "metadata": {},
   "outputs": [
    {
     "data": {
      "text/plain": [
       "((76, 512, 512), numpy.ndarray)"
      ]
     },
     "execution_count": 13,
     "metadata": {},
     "output_type": "execute_result"
    }
   ],
   "source": [
    "oct_volume.shape, type(oct_volume)"
   ]
  },
  {
   "cell_type": "markdown",
   "id": "55cd01a0",
   "metadata": {},
   "source": [
    "## Dark mode for ipywidget in VS Code\n",
    "* https://stackoverflow.com/questions/75429196/vs-code-jupyter-notebook-dark-theme-for-interactive-elements\n",
    "* https://github.com/microsoft/vscode-jupyter/issues/9403\n",
    "* https://github.com/microsoft/vscode-jupyter/issues/7161\n",
    "\n",
    "Note:\n",
    "```\n",
    "comments in css code\n",
    "/*must starts with no space and end with a space */\n",
    "otherwise the interactive will keep recompiling. and jumping up and down while interacting by the user.\n",
    "```"
   ]
  },
  {
   "cell_type": "code",
   "execution_count": 14,
   "id": "56f9f630",
   "metadata": {},
   "outputs": [
    {
     "data": {
      "text/html": [
       "<style>\n",
       "/*overwrite hard coded write background by vscode for ipywidges */\n",
       ".cell-output-ipywidget-background {\n",
       "   background-color: transparent !important;\n",
       "}\n",
       "\n",
       "/*set widget foreground text and color of interactive widget to vs dark theme color */\n",
       ":root {\n",
       "    --jp-widgets-color: var(--vscode-editor-foreground);\n",
       "    --jp-widgets-font-size: var(--vscode-editor-font-size);\n",
       "}\n",
       "</style>\n"
      ],
      "text/plain": [
       "<IPython.core.display.HTML object>"
      ]
     },
     "metadata": {},
     "output_type": "display_data"
    }
   ],
   "source": [
    "%%html\n",
    "<style>\n",
    "/*overwrite hard coded write background by vscode for ipywidges */\n",
    ".cell-output-ipywidget-background {\n",
    "   background-color: transparent !important;\n",
    "}\n",
    "\n",
    "/*set widget foreground text and color of interactive widget to vs dark theme color */\n",
    ":root {\n",
    "    --jp-widgets-color: var(--vscode-editor-foreground);\n",
    "    --jp-widgets-font-size: var(--vscode-editor-font-size);\n",
    "}\n",
    "</style>"
   ]
  },
  {
   "cell_type": "code",
   "execution_count": 15,
   "id": "1d2f9e13-2067-4754-8489-a779b84fc436",
   "metadata": {},
   "outputs": [
    {
     "data": {
      "application/vnd.jupyter.widget-view+json": {
       "model_id": "91fc6358268f4a34802ad1327829cfb2",
       "version_major": 2,
       "version_minor": 0
      },
      "text/plain": [
       "interactive(children=(IntSlider(value=0, description='slice_idx', max=75), Output()), _dom_classes=('widget-in…"
      ]
     },
     "metadata": {},
     "output_type": "display_data"
    }
   ],
   "source": [
    "slider_widget = widgets.IntSlider(min = 0, max = oct_volume.shape[0]-1, step = 1, value = 0)\n",
    "\n",
    "w = interactive(show_raw_dcm, \n",
    "                image = fixed(oct_volume),\n",
    "                slice_idx = slider_widget,\n",
    ")\n",
    "\n",
    "display(w)"
   ]
  },
  {
   "cell_type": "code",
   "execution_count": null,
   "id": "f39fe01a",
   "metadata": {},
   "outputs": [],
   "source": []
  }
 ],
 "metadata": {
  "kernelspec": {
   "display_name": "dicom3.9",
   "language": "python",
   "name": "dicom3.9"
  },
  "language_info": {
   "codemirror_mode": {
    "name": "ipython",
    "version": 3
   },
   "file_extension": ".py",
   "mimetype": "text/x-python",
   "name": "python",
   "nbconvert_exporter": "python",
   "pygments_lexer": "ipython3",
   "version": "3.9.16"
  }
 },
 "nbformat": 4,
 "nbformat_minor": 5
}
